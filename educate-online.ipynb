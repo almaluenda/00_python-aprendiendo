{
 "cells": [
  {
   "cell_type": "code",
   "execution_count": 9,
   "metadata": {},
   "outputs": [
    {
     "name": "stdout",
     "output_type": "stream",
     "text": [
      "EDUCATE-ONLINE VENTA DE CURSOS\n",
      "\\Valores semestrales de los cursos:\n",
      "1. Progamación : $250.000\n",
      "2. Bases de datos : $310.000\n",
      "3. Robótica : 280.000\n",
      "4. Salir/Finalizar\n",
      "Usted ha inscrito el curso PROGRAMACIÓN\n",
      "\\Valores semestrales de los cursos:\n",
      "1. Progamación : $250.000\n",
      "2. Bases de datos : $310.000\n",
      "3. Robótica : 280.000\n",
      "4. Salir/Finalizar\n",
      "Total de cursos comprados : 1\n",
      "Valor de cursos comprados $: 250000\n"
     ]
    }
   ],
   "source": [
    "#vamos a realizar programa para ventas online\n",
    "print(\"EDUCATE-ONLINE VENTA DE CURSOS\")\n",
    "import os\n",
    "flag_salir = False\n",
    "\n",
    "valor_prog=250000\n",
    "valor_bases=310000\n",
    "valor_robot=280000\n",
    "cuenta = 0\n",
    "flag_prog=0\n",
    "flag_bases=0\n",
    "flag_robot=0\n",
    "cupon = False\n",
    "\n",
    "while not flag_salir:\n",
    "    print(\"\\Valores semestrales de los cursos:\")\n",
    "    print(\"1. Progamación : $250.000\")\n",
    "    print(\"2. Bases de datos : $310.000\")\n",
    "    print(\"3. Robótica : 280.000\")\n",
    "    print(\"4. Salir/Finalizar\")\n",
    "    curso = int(input(\"Seleccione el curso al que se desea inscribir: \"))\n",
    "\n",
    "    if curso == 1:\n",
    "        os.system(\"cls\")\n",
    "        if flag_prog==0:\n",
    "            flag_prog=1\n",
    "            nombre=input(\"\\nIngrese nombre del alumno : \")\n",
    "            rut=input(\"Ingrese rut del alumno : \")\n",
    "            if cupon == False:\n",
    "                cuenta=cuenta+valor_prog\n",
    "            else:\n",
    "                cuenta=cuenta+valor_prog*0.8\n",
    "            print(\"Usted ha inscrito el curso PROGRAMACIÓN\")\n",
    "        else:\n",
    "            print(\"Ya ha inscrito este curso\")\n",
    "            #break\n",
    "    elif curso == 2:\n",
    "        os.system(\"cls\")\n",
    "        if flag_bases==0:\n",
    "            flag_bases=1\n",
    "            nombre=input(\"\\nIngrese nombre del alumno : \")\n",
    "            rut=input(\"Ingrese rut del alumno : \")\n",
    "            if cupon == False:\n",
    "                cuenta=cuenta+valor_bases\n",
    "            else:\n",
    "                cuenta=cuenta+valor_bases*0.8\n",
    "            print(\"Usted ha inscrito el curso BASES DE DATOS\")\n",
    "        else:\n",
    "            print(\"Ya ha inscrito este curso\")\n",
    "            #break\n",
    "\n",
    "    elif curso == 3:\n",
    "        os.system(\"cls\")\n",
    "        if flag_robot==0:\n",
    "            flag_robot=1\n",
    "            nombre=input(\"\\nIngrese nombre del alumno : \")\n",
    "            rut=input(\"Ingrese rut del alumno : \")\n",
    "            if cupon == False:\n",
    "                cuenta=cuenta+valor_robot\n",
    "            else:\n",
    "                cuenta=cuenta+valor_robot*0.8\n",
    "            print(\"Usted ha inscrito el curso ROBÓTICA\")\n",
    "        else:\n",
    "            print(\"Ya ha inscrito este curso\")\n",
    "            #break\n",
    "\n",
    "    elif curso == 4:\n",
    "        print(f\"Total de cursos comprados : {flag_prog+flag_bases+flag_robot}\")\n",
    "        print(f\"Valor de cursos comprados $: {cuenta}\")\n",
    "        \n",
    "        flag_salir = True"
   ]
  },
  {
   "cell_type": "code",
   "execution_count": 10,
   "metadata": {},
   "outputs": [
    {
     "name": "stdout",
     "output_type": "stream",
     "text": [
      "el sistema operativo es:nt\n"
     ]
    }
   ],
   "source": [
    "import os\n",
    "var=os.name\n",
    "print(\"el sistema operativo es:\"+var)\n"
   ]
  }
 ],
 "metadata": {
  "kernelspec": {
   "display_name": "Python 3.10.6 64-bit",
   "language": "python",
   "name": "python3"
  },
  "language_info": {
   "codemirror_mode": {
    "name": "ipython",
    "version": 3
   },
   "file_extension": ".py",
   "mimetype": "text/x-python",
   "name": "python",
   "nbconvert_exporter": "python",
   "pygments_lexer": "ipython3",
   "version": "3.10.6"
  },
  "orig_nbformat": 4,
  "vscode": {
   "interpreter": {
    "hash": "26de051ba29f2982a8de78e945f0abaf191376122a1563185a90213a26c5da77"
   }
  }
 },
 "nbformat": 4,
 "nbformat_minor": 2
}
